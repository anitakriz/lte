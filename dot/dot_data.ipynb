{
 "cells": [
  {
   "cell_type": "code",
   "execution_count": 2,
   "metadata": {},
   "outputs": [],
   "source": [
    "import numpy as np\n",
    "import cv2\n",
    "from torchvision import datasets, transforms\n",
    "import matplotlib.pyplot as plt\n",
    "from tqdm import tqdm  \n",
    "import os"
   ]
  },
  {
   "cell_type": "code",
   "execution_count": 5,
   "metadata": {},
   "outputs": [],
   "source": [
    "import numpy as np\n",
    "\n",
    "def generate_image(size, img_size, base_sigma=0.05, sigma_scale= .1):\n",
    "    \"\"\"\n",
    "    Generate an image with a Gaussian dot of a specific size in the center.\n",
    "    \n",
    "    Args:\n",
    "        size: The normalized size of the dot (0 to 1, representing the radius as a fraction of the image dimensions).\n",
    "        img_size: Tuple indicating the desired canvas size (height, width).\n",
    "        base_sigma: Minimum standard deviation for the Gaussian to control sharpness.\n",
    "        sigma_scale: Scaling factor for adjusting the standard deviation relative to the dot size.\n",
    "    \n",
    "    Returns:\n",
    "        canvas: A NumPy array representing the generated image.\n",
    "    \"\"\"\n",
    "    height, width = img_size\n",
    "    canvas = np.zeros((height, width), dtype=np.float32)  # Initialize the canvas\n",
    "    \n",
    "    # Calculate the center of the canvas\n",
    "    center_y, center_x = height // 2, width // 2\n",
    "    \n",
    "    # Calculate the radius and sigma for the Gaussian\n",
    "    dot_radius = size * min(height, width) / 2  # Convert normalized size to pixel radius\n",
    "    sigma = max(dot_radius * sigma_scale, base_sigma)  # Ensure sigma does not drop below base_sigma\n",
    " \n",
    "    # Create the Gaussian using a distance mask\n",
    "    y, x = np.ogrid[:height, :width]\n",
    "    distance_from_center_squared = (x - center_x)**2 + (y - center_y)**2\n",
    "    \n",
    "    # Compute Gaussian intensity profile\n",
    "    canvas = np.exp(-distance_from_center_squared / (2 * sigma**2))\n",
    "    \n",
    "    # Normalize the canvas to keep values between 0 and 1\n",
    "    canvas /= canvas.max()\n",
    "    \n",
    "    return canvas\n",
    "\n",
    "\n"
   ]
  },
  {
   "cell_type": "code",
   "execution_count": 6,
   "metadata": {},
   "outputs": [
    {
     "data": {
      "image/png": "[encoded data removed]",
      "text/plain": [
       "<Figure size 1500x500 with 4 Axes>"
      ]
     },
     "metadata": {},
     "output_type": "display_data"
    }
   ],
   "source": [
    "import matplotlib.pyplot as plt\n",
    "\n",
    "# Parameters\n",
    "img_size = (51, 51)  # Canvas size\n",
    "sizes = [1, 1.1, 1.15, 1.2]  # Different normalized dot sizes\n",
    "sigma_scale = 0.2\n",
    "base_sigma = .1\n",
    "\n",
    "# Generate and display Gaussian dots\n",
    "fig, axes = plt.subplots(1, len(sizes), figsize=(15, 5))\n",
    "for ax, size in zip(axes, sizes):\n",
    "    img = generate_image(size, img_size, base_sigma=base_sigma, sigma_scale=sigma_scale)\n",
    "    ax.imshow(img, cmap='gray')\n",
    "    ax.set_title(f\"Size: {size}\")\n",
    "    ax.axis('off')\n",
    "\n",
    "plt.tight_layout()\n",
    "plt.show()\n"
   ]
  },
  {
   "cell_type": "code",
   "execution_count": 8,
   "metadata": {},
   "outputs": [],
   "source": [
    "def save_trajectory(num_timesteps= 101, delta_t = .02, img_size=(51, 51), output_file=\"trajectories.npz\", num_ics=200):\n",
    "    \"\"\"\n",
    "    Save trajectories, their derivatives, and size values for both true and counterfactual scenarios.\n",
    "\n",
    "    Args:\n",
    "        num_timesteps: Number of time steps in the trajectory.\n",
    "        img_size: Desired image size (width, height).\n",
    "        output_file: Path to save the .npz file.\n",
    "        num_ics: Number of initial conditions to generate per label.\n",
    "    \"\"\"\n",
    "    K = 1\n",
    "    alpha = 1.0\n",
    "    delta_t = delta_t  # Time step interval\n",
    "    epsilon = 1e-5\n",
    "\n",
    "    # Preallocate lists for structured data\n",
    "    image_ids = []\n",
    "    true_images = []\n",
    "    true_derivatives = []\n",
    "    true_sizes = []  # To store sizes for the true trajectory\n",
    "\n",
    "    for ic in range(num_ics):\n",
    "        init_size = np.random.uniform(0.05, 1.0)  # Initial size of the dot\n",
    "\n",
    "        # Initialize for true trajectory\n",
    "        size_t = init_size\n",
    "        true_traj = []\n",
    "        true_img_der = []\n",
    "        true_size_traj = []  # Collect sizes for the true trajectory\n",
    "\n",
    "        for t in range(num_timesteps):\n",
    "            # Generate the dot image\n",
    "            img = generate_image(size=size_t, img_size=img_size)\n",
    "            d_size_dt = (alpha * (1 - size_t / K)) * size_t\n",
    "            #d_size_dt = 1 - size_t\n",
    "\n",
    "            # #derivative calc\n",
    "            # img_plus = generate_image(size=size_t + epsilon, img_size=img_size)\n",
    "            # img_minus = generate_image(size=size_t - epsilon, img_size=img_size)\n",
    "            # # Approximate the gradient using finite differences\n",
    "            # gradient = (img_plus - img_minus) / (2 * epsilon)\n",
    "       \n",
    "            # true_img_der.append(gradient)\n",
    "            # true_traj.append(img)\n",
    "            # true_size_traj.append(size_t)\n",
    "\n",
    "            if t > 0:\n",
    "                # Compute derivative on normalized images\n",
    "                img_derivative = (img - prev_img) / delta_t\n",
    "                true_img_der.append(img_derivative)\n",
    "                true_traj.append(img)\n",
    "                true_size_traj.append(size_t)\n",
    "\n",
    "            prev_img = img\n",
    "            size_t += d_size_dt * delta_t\n",
    "\n",
    "        # Append structured data\n",
    "        image_ids.append(ic)\n",
    "        true_images.append(np.array(true_traj))\n",
    "        true_derivatives.append(np.array(true_img_der))\n",
    "        true_sizes.append(np.array(true_size_traj))\n",
    "\n",
    "    # Save structured data\n",
    "    np.savez_compressed(output_file,\n",
    "                        image_ids=np.array(image_ids),\n",
    "                        x=np.array(true_images),\n",
    "                        dx=np.array(true_derivatives),\n",
    "                        o=np.array(true_sizes))\n"
   ]
  },
  {
   "cell_type": "code",
   "execution_count": 9,
   "metadata": {},
   "outputs": [],
   "source": [
    "# Generate trajectories\n",
    "output_dir = '/usr/local/data/anitakriz/ode/lte/dot/data/untreated/'\n",
    "os.makedirs(output_dir, exist_ok=True)\n",
    "\n",
    "save_trajectory(\n",
    "    img_size = (51, 51),\n",
    "    num_timesteps = 11,\n",
    "    delta_t = .02,\n",
    "    output_file=os.path.join(output_dir, 'dot_train_traj.npz'),\n",
    "    num_ics = 5000\n",
    "      # Number of initial conditions\n",
    ")\n",
    "save_trajectory(\n",
    "    img_size = (51,51),\n",
    "    num_timesteps = 11,\n",
    "    delta_t = .02,\n",
    "    output_file=os.path.join(output_dir, 'dot_val_traj.npz'),\n",
    "    num_ics= 500  # Number of initial conditions\n",
    ")\n",
    "save_trajectory(\n",
    "    img_size = (51,51),\n",
    "    num_timesteps = 11,\n",
    "    delta_t = .02,\n",
    "    output_file=os.path.join(output_dir, 'dot_test_traj.npz'),\n",
    "    num_ics= 500  # Number of initial conditions\n",
    ")"
   ]
  },
  {
   "cell_type": "code",
   "execution_count": 8,
   "metadata": {},
   "outputs": [
    {
     "name": "stdout",
     "output_type": "stream",
     "text": [
      "Number of duplicates: 0\n"
     ]
    }
   ],
   "source": [
    "import matplotlib.pyplot as plt\n",
    "import numpy as np\n",
    "\n",
    "def count_identical_images(images):\n",
    "    \"\"\"\n",
    "    Count how many images are visually identical based on their pixel values.\n",
    "    \n",
    "    Args:\n",
    "        images (numpy.ndarray): Array of images with shape (n_samples, width, height).\n",
    "    \n",
    "    Returns:\n",
    "        int: Number of duplicate images.\n",
    "        dict: A mapping of unique pixel content to the number of occurrences.\n",
    "    \"\"\"\n",
    "    # Dictionary to store unique image representations\n",
    "    image_groups = {}\n",
    "    \n",
    "    for i, img in enumerate(images):\n",
    "        # Convert image to a tuple for hashability and easy comparison\n",
    "        img_tuple = tuple(img.flatten())\n",
    "        \n",
    "        # Use the tuple as a key for grouping identical images\n",
    "        if img_tuple in image_groups:\n",
    "            image_groups[img_tuple].append(i)\n",
    "        else:\n",
    "            image_groups[img_tuple] = [i]\n",
    "    \n",
    "    # Count duplicates (images that have more than one occurrence)\n",
    "    duplicate_count = sum(len(indices) - 1 for indices in image_groups.values() if len(indices) > 1)\n",
    "    \n",
    "    return duplicate_count, image_groups\n",
    "\n",
    "# Example usage\n",
    "data = np.load('/usr/local/data/anitakriz/ode/lte/dot/data/untreated/dot_train_traj.npz', allow_pickle=True)\n",
    "images = data['x'].reshape(-1, 51, 51)  # Reshape to (n_samples, width, height)\n",
    "sizes = data['o'].reshape(-1)  # Assuming data['o'] contains sizes corresponding to images\n",
    "\n",
    "duplicates, image_groups = count_identical_images(images)\n",
    "print(\"Number of duplicates:\", duplicates)\n",
    "# plot_identical_image_groups(images, image_groups, sizes)"
   ]
  },
  {
   "cell_type": "code",
   "execution_count": 9,
   "metadata": {},
   "outputs": [
    {
     "name": "stdout",
     "output_type": "stream",
     "text": [
      "(5000, 10, 51, 51)\n",
      "Total number of zero derivatives (dx=0) across all trajectories and timesteps: 0 out of 50000\n"
     ]
    }
   ],
   "source": [
    "data = np.load('/usr/local/data/anitakriz/ode/lte/dot/data/untreated/dot_train_traj.npz', allow_pickle=True)\n",
    "\n",
    "# Extract dx (derivatives)\n",
    "dx = data['dx']  # Shape: (total_trajectories, num_timesteps, img_size, img_size)\n",
    "print(dx.shape)\n",
    "# Initialize the counter for zero derivatives\n",
    "zero_count = 0\n",
    "\n",
    "# Loop over all trajectories and timesteps\n",
    "for trajectory_idx in range(dx.shape[0]):  # Iterate over trajectories\n",
    "    for timestep_idx in range(dx.shape[1]):  # Iterate over timesteps\n",
    "        # Check if all elements in the dx matrix are zero for this trajectory and timestep\n",
    "        if np.all(dx[trajectory_idx, timestep_idx] == 0):\n",
    "            zero_count += 1\n",
    "\n",
    "# Print the total count of zero derivatives\n",
    "print(f\"Total number of zero derivatives (dx=0) across all trajectories and timesteps: {zero_count} out of {data['dx'].shape[0] * data['dx'].shape[1]}\")\n"
   ]
  },
  {
   "cell_type": "code",
   "execution_count": 10,
   "metadata": {},
   "outputs": [],
   "source": [
    "data = np.load('/usr/local/data/anitakriz/ode/lte/dot/data/untreated/dot_train_traj.npz', allow_pickle=True)\n",
    "\n",
    "# Extract x (images), dx (derivatives), sizes (o), and other metadata\n",
    "x = data['x']  # Shape: (total_trajectories, num_timesteps, img_size, img_size)\n",
    "dx = data['dx']  # Shape: (total_trajectories, num_timesteps, img_size, img_size)\n",
    "sizes = data['o']  # Shape: (total_trajectories, num_timesteps)\n",
    "image_ids = data['image_ids']  # Corresponding image IDs"
   ]
  },
  {
   "cell_type": "code",
   "execution_count": 11,
   "metadata": {},
   "outputs": [
    {
     "name": "stdout",
     "output_type": "stream",
     "text": [
      "(x0)' = 0.998 x0 + -0.997 x0^2\n"
     ]
    }
   ],
   "source": [
    "from pysindy import SINDy\n",
    "import pysindy as ps\n",
    "t = np.arange(0,.2,0.02)\n",
    "sizes_reshaped = [sizes[i, :] for i in range(sizes.shape[0])]\n",
    "\n",
    "model = SINDy(feature_library = ps.PolynomialLibrary(degree = 3))\n",
    "model.fit(x = sizes_reshaped, t = t, multiple_trajectories = True)\n",
    "model.print()"
   ]
  },
  {
   "cell_type": "code",
   "execution_count": 21,
   "metadata": {},
   "outputs": [
    {
     "data": {
      "image/png": "[encoded data removed]",
      "text/plain": [
       "<Figure size 2000x400 with 20 Axes>"
      ]
     },
     "metadata": {},
     "output_type": "display_data"
    }
   ],
   "source": [
    "import numpy as np\n",
    "import matplotlib.pyplot as plt\n",
    "from matplotlib.colors import Normalize\n",
    "\n",
    "# Load data\n",
    "data = np.load('/usr/local/data/anitakriz/ode/lte/dot/data/untreated/dot_train_traj.npz', allow_pickle=True)\n",
    "\n",
    "# Extract x (images), dx (derivatives), sizes (o), and other metadata\n",
    "x = data['x']  # Shape: (total_trajectories, num_timesteps, img_size, img_size)\n",
    "dx = data['dx']  # Shape: (total_trajectories, num_timesteps, img_size, img_size)\n",
    "sizes = data['o']  # Shape: (total_trajectories, num_timesteps)\n",
    "\n",
    "# Select trajectories and timesteps to plot\n",
    "trajectory_indices = [0]  # Indices of trajectories to display\n",
    "num_timesteps = 10\n",
    "timesteps_to_show = np.linspace(0, num_timesteps - 1, num_timesteps, dtype=int)  # Select timesteps\n",
    "\n",
    "# Fixed normalization range for dx plots\n",
    "norm = Normalize(vmin=0, vmax = 1)\n",
    "\n",
    "# Create subplots\n",
    "num_trajectories = len(trajectory_indices)\n",
    "fig, axes = plt.subplots(num_trajectories * 2, len(timesteps_to_show), \n",
    "                         figsize=(len(timesteps_to_show) * 2, num_trajectories * 4))\n",
    "\n",
    "# Loop over trajectories\n",
    "for row, trajectory_idx in enumerate(trajectory_indices):\n",
    "    for col, t_idx in enumerate(timesteps_to_show):\n",
    "        # Plot x (image)\n",
    "        axes[row * 2, col].imshow(x[trajectory_idx, t_idx], cmap='gray', origin='lower')\n",
    "        axes[row * 2, col].set_title(f\"Traj {trajectory_idx}, Timestep {t_idx}\")\n",
    "        axes[row * 2, col].axis('off')\n",
    "        # Add size below the image\n",
    "        axes[row * 2, col].text(0.5, -0.2, f\"Size: {sizes[trajectory_idx, t_idx]:.3f}\",\n",
    "                                fontsize=8, ha='center', transform=axes[row * 2, col].transAxes)\n",
    "\n",
    "        # Plot dx (derivative)\n",
    "        axes[row * 2 + 1, col].imshow(dx[trajectory_idx, t_idx], cmap='coolwarm', norm=norm, origin='lower')\n",
    "        axes[row * 2 + 1, col].set_title(f\"dx (Traj {trajectory_idx}, Timestep {t_idx})\")\n",
    "        axes[row * 2 + 1, col].axis('off')\n",
    "\n",
    "# Add labels for rows\n",
    "for row in range(num_trajectories):\n",
    "    axes[row * 2, 0].set_ylabel(f'Traj {trajectory_indices[row]}: x', fontsize=12)\n",
    "    axes[row * 2 + 1, 0].set_ylabel(f'Traj {trajectory_indices[row]}: dx', fontsize=12)\n",
    "\n",
    "plt.tight_layout()\n",
    "plt.show()\n"
   ]
  }
 ],
 "metadata": {
  "kernelspec": {
   "display_name": "ode_env",
   "language": "python",
   "name": "python3"
  },
  "language_info": {
   "codemirror_mode": {
    "name": "ipython",
    "version": 3
   },
   "file_extension": ".py",
   "mimetype": "text/x-python",
   "name": "python",
   "nbconvert_exporter": "python",
   "pygments_lexer": "ipython3",
   "version": "3.8.10"
  }
 },
 "nbformat": 4,
 "nbformat_minor": 2
}
